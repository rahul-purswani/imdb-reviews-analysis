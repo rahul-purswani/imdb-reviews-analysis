{
 "cells": [
  {
   "cell_type": "code",
   "execution_count": 50,
   "metadata": {},
   "outputs": [],
   "source": [
    "import numpy as np\n",
    "import pandas as pd\n",
    "\n",
    "from sklearn import preprocessing\n",
    "from sklearn.feature_extraction.text import TfidfVectorizer\n",
    "\n",
    "from sklearn.model_selection import train_test_split\n",
    "from sklearn.linear_model import LogisticRegression\n",
    "# from sklearn.neural_network import MLPClassifier\n",
    "from sklearn.metrics import classification_report\n",
    "\n",
    "import re\n",
    "from nltk.corpus import stopwords\n",
    "from nltk.stem import PorterStemmer\n"
   ]
  },
  {
   "cell_type": "code",
   "execution_count": 51,
   "metadata": {},
   "outputs": [
    {
     "data": {
      "text/html": [
       "<div>\n",
       "<style scoped>\n",
       "    .dataframe tbody tr th:only-of-type {\n",
       "        vertical-align: middle;\n",
       "    }\n",
       "\n",
       "    .dataframe tbody tr th {\n",
       "        vertical-align: top;\n",
       "    }\n",
       "\n",
       "    .dataframe thead th {\n",
       "        text-align: right;\n",
       "    }\n",
       "</style>\n",
       "<table border=\"1\" class=\"dataframe\">\n",
       "  <thead>\n",
       "    <tr style=\"text-align: right;\">\n",
       "      <th></th>\n",
       "      <th>Unnamed: 0</th>\n",
       "      <th>Movie_Title</th>\n",
       "      <th>Movie_Release_Year</th>\n",
       "      <th>Movie_Genres</th>\n",
       "      <th>Review_User</th>\n",
       "      <th>Review_Date</th>\n",
       "      <th>Review_Rating</th>\n",
       "      <th>Review_Title</th>\n",
       "      <th>Review_Content</th>\n",
       "      <th>Review_Sentiment</th>\n",
       "    </tr>\n",
       "  </thead>\n",
       "  <tbody>\n",
       "    <tr>\n",
       "      <th>0</th>\n",
       "      <td>0</td>\n",
       "      <td>The Shawshank Redemption</td>\n",
       "      <td>1994</td>\n",
       "      <td>['Drama']</td>\n",
       "      <td>hitchcockthelegend</td>\n",
       "      <td>2010-07-24</td>\n",
       "      <td>10</td>\n",
       "      <td>Some birds aren't meant to be caged.</td>\n",
       "      <td>shawshank redempt written direct frank darabon...</td>\n",
       "      <td>Positive</td>\n",
       "    </tr>\n",
       "    <tr>\n",
       "      <th>1</th>\n",
       "      <td>1</td>\n",
       "      <td>The Shawshank Redemption</td>\n",
       "      <td>1994</td>\n",
       "      <td>['Drama']</td>\n",
       "      <td>Sleepin_Dragon</td>\n",
       "      <td>2021-02-17</td>\n",
       "      <td>10</td>\n",
       "      <td>An incredible movie. One that lives with you.</td>\n",
       "      <td>wonder high rate quit liter breathtak say hasn...</td>\n",
       "      <td>Positive</td>\n",
       "    </tr>\n",
       "    <tr>\n",
       "      <th>2</th>\n",
       "      <td>2</td>\n",
       "      <td>The Shawshank Redemption</td>\n",
       "      <td>1994</td>\n",
       "      <td>['Drama']</td>\n",
       "      <td>EyeDunno</td>\n",
       "      <td>2005-11-21</td>\n",
       "      <td>10</td>\n",
       "      <td>Don't Rent Shawshank.</td>\n",
       "      <td>im tri save money last titl consid borrow rent...</td>\n",
       "      <td>Positive</td>\n",
       "    </tr>\n",
       "    <tr>\n",
       "      <th>3</th>\n",
       "      <td>3</td>\n",
       "      <td>The Shawshank Redemption</td>\n",
       "      <td>1994</td>\n",
       "      <td>['Drama']</td>\n",
       "      <td>alexkolokotronis</td>\n",
       "      <td>2008-02-18</td>\n",
       "      <td>10</td>\n",
       "      <td>This is How Movies Should Be Made</td>\n",
       "      <td>ordinari hollywood flick great deep messag fou...</td>\n",
       "      <td>Positive</td>\n",
       "    </tr>\n",
       "    <tr>\n",
       "      <th>4</th>\n",
       "      <td>4</td>\n",
       "      <td>The Shawshank Redemption</td>\n",
       "      <td>1994</td>\n",
       "      <td>['Drama']</td>\n",
       "      <td>kaspen12</td>\n",
       "      <td>2006-02-10</td>\n",
       "      <td>10</td>\n",
       "      <td>A classic piece of unforgettable film-making.</td>\n",
       "      <td>oscar year shawshank redempt written direct fr...</td>\n",
       "      <td>Positive</td>\n",
       "    </tr>\n",
       "  </tbody>\n",
       "</table>\n",
       "</div>"
      ],
      "text/plain": [
       "   Unnamed: 0               Movie_Title  Movie_Release_Year Movie_Genres  \\\n",
       "0           0  The Shawshank Redemption                1994    ['Drama']   \n",
       "1           1  The Shawshank Redemption                1994    ['Drama']   \n",
       "2           2  The Shawshank Redemption                1994    ['Drama']   \n",
       "3           3  The Shawshank Redemption                1994    ['Drama']   \n",
       "4           4  The Shawshank Redemption                1994    ['Drama']   \n",
       "\n",
       "          Review_User Review_Date  Review_Rating  \\\n",
       "0  hitchcockthelegend  2010-07-24             10   \n",
       "1      Sleepin_Dragon  2021-02-17             10   \n",
       "2            EyeDunno  2005-11-21             10   \n",
       "3    alexkolokotronis  2008-02-18             10   \n",
       "4            kaspen12  2006-02-10             10   \n",
       "\n",
       "                                    Review_Title  \\\n",
       "0           Some birds aren't meant to be caged.   \n",
       "1  An incredible movie. One that lives with you.   \n",
       "2                          Don't Rent Shawshank.   \n",
       "3              This is How Movies Should Be Made   \n",
       "4  A classic piece of unforgettable film-making.   \n",
       "\n",
       "                                      Review_Content Review_Sentiment  \n",
       "0  shawshank redempt written direct frank darabon...         Positive  \n",
       "1  wonder high rate quit liter breathtak say hasn...         Positive  \n",
       "2  im tri save money last titl consid borrow rent...         Positive  \n",
       "3  ordinari hollywood flick great deep messag fou...         Positive  \n",
       "4  oscar year shawshank redempt written direct fr...         Positive  "
      ]
     },
     "execution_count": 51,
     "metadata": {},
     "output_type": "execute_result"
    }
   ],
   "source": [
    "data = pd.read_excel(\"imdb_processeddata.xlsx\")\n",
    "data.head()"
   ]
  },
  {
   "cell_type": "code",
   "execution_count": 52,
   "metadata": {},
   "outputs": [
    {
     "name": "stdout",
     "output_type": "stream",
     "text": [
      "<class 'pandas.core.frame.DataFrame'>\n",
      "RangeIndex: 8970 entries, 0 to 8969\n",
      "Data columns (total 10 columns):\n",
      " #   Column              Non-Null Count  Dtype         \n",
      "---  ------              --------------  -----         \n",
      " 0   Unnamed: 0          8970 non-null   int64         \n",
      " 1   Movie_Title         8970 non-null   string        \n",
      " 2   Movie_Release_Year  8970 non-null   int64         \n",
      " 3   Movie_Genres        8970 non-null   string        \n",
      " 4   Review_User         8970 non-null   string        \n",
      " 5   Review_Date         8970 non-null   datetime64[ns]\n",
      " 6   Review_Rating       8970 non-null   int64         \n",
      " 7   Review_Title        8970 non-null   string        \n",
      " 8   Review_Content      8970 non-null   string        \n",
      " 9   Review_Sentiment    8970 non-null   string        \n",
      "dtypes: datetime64[ns](1), int64(3), string(6)\n",
      "memory usage: 700.9 KB\n"
     ]
    }
   ],
   "source": [
    "data['Movie_Title'] = data['Movie_Title'].astype('string')\n",
    "data['Movie_Genres'] = data['Movie_Genres'].astype('string')\n",
    "data['Review_User'] = data['Review_User'].astype('string')\n",
    "data['Review_Title'] = data['Review_Title'].astype('string')\n",
    "data['Review_Content'] = data['Review_Content'].astype('string')\n",
    "data['Review_Sentiment'] = data['Review_Sentiment'].astype('string')\n",
    "\n",
    "data.info()"
   ]
  },
  {
   "cell_type": "code",
   "execution_count": 53,
   "metadata": {},
   "outputs": [
    {
     "data": {
      "text/html": [
       "<div>\n",
       "<style scoped>\n",
       "    .dataframe tbody tr th:only-of-type {\n",
       "        vertical-align: middle;\n",
       "    }\n",
       "\n",
       "    .dataframe tbody tr th {\n",
       "        vertical-align: top;\n",
       "    }\n",
       "\n",
       "    .dataframe thead th {\n",
       "        text-align: right;\n",
       "    }\n",
       "</style>\n",
       "<table border=\"1\" class=\"dataframe\">\n",
       "  <thead>\n",
       "    <tr style=\"text-align: right;\">\n",
       "      <th></th>\n",
       "      <th>Review_Content</th>\n",
       "      <th>Review_Sentiment</th>\n",
       "    </tr>\n",
       "  </thead>\n",
       "  <tbody>\n",
       "    <tr>\n",
       "      <th>0</th>\n",
       "      <td>shawshank redempt written direct frank darabon...</td>\n",
       "      <td>Positive</td>\n",
       "    </tr>\n",
       "    <tr>\n",
       "      <th>1</th>\n",
       "      <td>wonder high rate quit liter breathtak say hasn...</td>\n",
       "      <td>Positive</td>\n",
       "    </tr>\n",
       "    <tr>\n",
       "      <th>2</th>\n",
       "      <td>im tri save money last titl consid borrow rent...</td>\n",
       "      <td>Positive</td>\n",
       "    </tr>\n",
       "    <tr>\n",
       "      <th>3</th>\n",
       "      <td>ordinari hollywood flick great deep messag fou...</td>\n",
       "      <td>Positive</td>\n",
       "    </tr>\n",
       "    <tr>\n",
       "      <th>4</th>\n",
       "      <td>oscar year shawshank redempt written direct fr...</td>\n",
       "      <td>Positive</td>\n",
       "    </tr>\n",
       "  </tbody>\n",
       "</table>\n",
       "</div>"
      ],
      "text/plain": [
       "                                      Review_Content Review_Sentiment\n",
       "0  shawshank redempt written direct frank darabon...         Positive\n",
       "1  wonder high rate quit liter breathtak say hasn...         Positive\n",
       "2  im tri save money last titl consid borrow rent...         Positive\n",
       "3  ordinari hollywood flick great deep messag fou...         Positive\n",
       "4  oscar year shawshank redempt written direct fr...         Positive"
      ]
     },
     "execution_count": 53,
     "metadata": {},
     "output_type": "execute_result"
    }
   ],
   "source": [
    "data = data[['Review_Content','Review_Sentiment']]\n",
    "data.head()"
   ]
  },
  {
   "cell_type": "code",
   "execution_count": 54,
   "metadata": {},
   "outputs": [
    {
     "name": "stdout",
     "output_type": "stream",
     "text": [
      "[2 0 1]\n"
     ]
    },
    {
     "data": {
      "text/html": [
       "<div>\n",
       "<style scoped>\n",
       "    .dataframe tbody tr th:only-of-type {\n",
       "        vertical-align: middle;\n",
       "    }\n",
       "\n",
       "    .dataframe tbody tr th {\n",
       "        vertical-align: top;\n",
       "    }\n",
       "\n",
       "    .dataframe thead th {\n",
       "        text-align: right;\n",
       "    }\n",
       "</style>\n",
       "<table border=\"1\" class=\"dataframe\">\n",
       "  <thead>\n",
       "    <tr style=\"text-align: right;\">\n",
       "      <th></th>\n",
       "      <th>Review_Content</th>\n",
       "      <th>Review_Sentiment</th>\n",
       "    </tr>\n",
       "  </thead>\n",
       "  <tbody>\n",
       "    <tr>\n",
       "      <th>0</th>\n",
       "      <td>shawshank redempt written direct frank darabon...</td>\n",
       "      <td>2</td>\n",
       "    </tr>\n",
       "    <tr>\n",
       "      <th>1</th>\n",
       "      <td>wonder high rate quit liter breathtak say hasn...</td>\n",
       "      <td>2</td>\n",
       "    </tr>\n",
       "    <tr>\n",
       "      <th>2</th>\n",
       "      <td>im tri save money last titl consid borrow rent...</td>\n",
       "      <td>2</td>\n",
       "    </tr>\n",
       "    <tr>\n",
       "      <th>3</th>\n",
       "      <td>ordinari hollywood flick great deep messag fou...</td>\n",
       "      <td>2</td>\n",
       "    </tr>\n",
       "    <tr>\n",
       "      <th>4</th>\n",
       "      <td>oscar year shawshank redempt written direct fr...</td>\n",
       "      <td>2</td>\n",
       "    </tr>\n",
       "  </tbody>\n",
       "</table>\n",
       "</div>"
      ],
      "text/plain": [
       "                                      Review_Content  Review_Sentiment\n",
       "0  shawshank redempt written direct frank darabon...                 2\n",
       "1  wonder high rate quit liter breathtak say hasn...                 2\n",
       "2  im tri save money last titl consid borrow rent...                 2\n",
       "3  ordinari hollywood flick great deep messag fou...                 2\n",
       "4  oscar year shawshank redempt written direct fr...                 2"
      ]
     },
     "execution_count": 54,
     "metadata": {},
     "output_type": "execute_result"
    }
   ],
   "source": [
    "encoder = preprocessing.LabelEncoder()\n",
    "data['Review_Sentiment'] = encoder.fit_transform(data.Review_Sentiment.values)\n",
    "\n",
    "print(encoder.transform([\"Positive\", \"Negative\", \"Neutral\"]))\n",
    "data.head()"
   ]
  },
  {
   "cell_type": "code",
   "execution_count": 55,
   "metadata": {},
   "outputs": [],
   "source": [
    "tf_idf_vectorizer = TfidfVectorizer()\n",
    "X = tf_idf_vectorizer.fit_transform(data['Review_Content'])\n",
    "y = data['Review_Sentiment']\n"
   ]
  },
  {
   "cell_type": "code",
   "execution_count": 56,
   "metadata": {},
   "outputs": [],
   "source": [
    "X_train, X_test, y_train, y_test = train_test_split(X, y, test_size=0.2, random_state=42)"
   ]
  },
  {
   "cell_type": "code",
   "execution_count": 57,
   "metadata": {},
   "outputs": [
    {
     "name": "stdout",
     "output_type": "stream",
     "text": [
      "              precision    recall  f1-score   support\n",
      "\n",
      "           0       0.82      0.88      0.85       622\n",
      "           1       0.64      0.14      0.23       182\n",
      "           2       0.87      0.95      0.90       990\n",
      "\n",
      "    accuracy                           0.84      1794\n",
      "   macro avg       0.77      0.66      0.66      1794\n",
      "weighted avg       0.83      0.84      0.82      1794\n",
      "\n"
     ]
    }
   ],
   "source": [
    "model = LogisticRegression(random_state=7)\n",
    "model.fit(X_train,y_train)\n",
    "\n",
    "# model = MLPClassifier(random_state=7, max_iter=300).fit(X_train, y_train)\n",
    "\n",
    "y_pred = model.predict(X_test)\n",
    "\n",
    "print(classification_report(y_test, y_pred))\n",
    "\n"
   ]
  },
  {
   "cell_type": "code",
   "execution_count": 58,
   "metadata": {},
   "outputs": [],
   "source": [
    "def review_preprocessor(review):\n",
    "    #Delete the \"Was this review helpful? Sign in to vote.\"\n",
    "    review = review.replace(\"Was this review helpful? Sign in to vote.\",\"\")\n",
    "\n",
    "    # Remove zero or more occurrences of anything between \"<\" and \">\" and new line \"\\n\"\n",
    "    html_capture = re.compile(r'<.*?>|\\n')\n",
    "    review = html_capture.sub(' ', review)\n",
    "\n",
    "    # Remove punctutation and symbols\n",
    "    # We basically find only English Word, Space and number characters and join them\n",
    "    # Convert all characters to lowercase\n",
    "    all_word_space_num = re.findall(r'[\\w\\s\\d]', review, re.MULTILINE)\n",
    "    all_word_space_num_lowered = [i.lower() for i in all_word_space_num]\n",
    "    review = \"\".join(all_word_space_num_lowered)\n",
    "    review = review.split(\" \")\n",
    "\n",
    "    #Removing stopwords\n",
    "    stopwords_set = set(stopwords.words('english'))\n",
    "    stopwords_set.add(\"film\")\n",
    "    stopwords_set.add(\"films\")\n",
    "    stopwords_set.add(\"movie\")\n",
    "    stopwords_set.add(\"movies\")\n",
    "    stopwords_set.add(\"one\")\n",
    "    removed_stopwords = []\n",
    "    for i in review:\n",
    "        if i  not in stopwords_set:\n",
    "            removed_stopwords.append(i)\n",
    "\n",
    "    #Applying Porter stemmer and joining all the words after removing stopwords\n",
    "    st = PorterStemmer()\n",
    "    review = \"\"\n",
    "    for i in removed_stopwords:\n",
    "        temp = st.stem(i)\n",
    "        review += temp + \" \"\n",
    "\n",
    "    return review"
   ]
  },
  {
   "cell_type": "code",
   "execution_count": 59,
   "metadata": {},
   "outputs": [
    {
     "name": "stdout",
     "output_type": "stream",
     "text": [
      "After preprocessing the Query: worst everi watch reccomend anyon \n",
      "\n",
      "Model Prediction - Negative\n"
     ]
    }
   ],
   "source": [
    "test_review = \"Worst movie I have every watched. I will not reccomend this to anyone\"\n",
    "\n",
    "# Preprocess the query\n",
    "sample = review_preprocessor(test_review)\n",
    "print(\"After preprocessing the Query:\", sample)\n",
    "print(\"\")\n",
    "\n",
    "# Transform the query into tf-idf vector\n",
    "sample = tf_idf_vectorizer.transform([sample])\n",
    "\n",
    "# Precdict the sentiment of the query\n",
    "prediction = model.predict(sample)\n",
    "print(\"Model Prediction -\", encoder.inverse_transform(prediction)[0])"
   ]
  },
  {
   "attachments": {},
   "cell_type": "markdown",
   "metadata": {},
   "source": [
    "Positive example - This was a great movie, I really liked the action scenes.<br>\n",
    "<br>Neutral example - This was okay, and I  might watch it again<br>\n",
    "<br>Negative example - Worst movie I have every watched. I will not reccomend this to anyone"
   ]
  }
 ],
 "metadata": {
  "kernelspec": {
   "display_name": "Python 3",
   "language": "python",
   "name": "python3"
  },
  "language_info": {
   "codemirror_mode": {
    "name": "ipython",
    "version": 3
   },
   "file_extension": ".py",
   "mimetype": "text/x-python",
   "name": "python",
   "nbconvert_exporter": "python",
   "pygments_lexer": "ipython3",
   "version": "3.11.2"
  },
  "orig_nbformat": 4
 },
 "nbformat": 4,
 "nbformat_minor": 2
}
