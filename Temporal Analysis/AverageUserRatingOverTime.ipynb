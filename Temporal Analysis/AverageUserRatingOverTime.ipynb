{
 "cells": [
  {
   "cell_type": "markdown",
   "id": "f0b40a02",
   "metadata": {},
   "source": [
    "# AveragUserRatingOverTime"
   ]
  },
  {
   "cell_type": "code",
   "execution_count": null,
   "id": "78ee0cb4",
   "metadata": {},
   "outputs": [],
   "source": [
    "# import pandas as pd\n",
    "import matplotlib.pyplot as plt\n",
    "\n",
    "# Read the data\n",
    "data = pd.read_excel('/users/IR/IMDBMovies.xlsx')\n",
    "\n",
    "# Parse the Review_Date field into separate month and year columns\n",
    "data['Review_Date'] = pd.to_datetime(data['Review_Date'])\n",
    "data['Year'] = data['Review_Date'].dt.year\n",
    "\n",
    "# Select three movies to analyze\n",
    "movies = ['The Dark Knight', 'The Lord of the Rings: The Fellowship of the Ring', ' Interstellar']\n",
    "\n",
    "# Define the movie colors\n",
    "movie_colors = {\n",
    "    'The Dark Knight': 'orange',\n",
    "    'The Lord of the Rings: The Fellowship of the Ring': 'green',\n",
    "    ' Interstellar': 'blue'\n",
    "}\n",
    "\n",
    "# Calculate the average user rating for each year and movie\n",
    "grouped_data = data[data['Movie_Title'].isin(movies)].groupby(['Year', 'Movie_Title'])['Review_Rating'].mean().reset_index()\n",
    "\n",
    "# Create a line plot of the average user rating over time for each movie\n",
    "fig, ax = plt.subplots(figsize=(12, 6))\n",
    "\n",
    "for movie in movies:\n",
    "    movie_data = grouped_data[grouped_data['Movie_Title'] == movie]\n",
    "    ax.plot(movie_data['Year'], movie_data['Review_Rating'], marker='o', label=movie, color=movie_colors[movie])\n",
    "\n",
    "# Format the chart\n",
    "ax.set_xlabel('Year')\n",
    "ax.set_ylabel('Average User Rating')\n",
    "ax.set_title('Average User Rating Over Time')\n",
    "ax.legend()\n",
    "\n",
    "# Format the x-axis tick labels\n",
    "ax.set_xticks(range(grouped_data['Year'].min(), grouped_data['Year'].max()+1))\n",
    "plt.xticks(rotation=45)\n",
    "\n",
    "# Show the chart\n",
    "plt.show()\n"
   ]
  },
  {
   "cell_type": "code",
   "execution_count": null,
   "id": "b0fc9c55",
   "metadata": {},
   "outputs": [],
   "source": []
  }
 ],
 "metadata": {
  "kernelspec": {
   "display_name": "Python 3 (ipykernel)",
   "language": "python",
   "name": "python3"
  },
  "language_info": {
   "codemirror_mode": {
    "name": "ipython",
    "version": 3
   },
   "file_extension": ".py",
   "mimetype": "text/x-python",
   "name": "python",
   "nbconvert_exporter": "python",
   "pygments_lexer": "ipython3",
   "version": "3.9.13"
  }
 },
 "nbformat": 4,
 "nbformat_minor": 5
}
